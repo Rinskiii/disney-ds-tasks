{
 "cells": [
  {
   "cell_type": "markdown",
   "metadata": {},
   "source": [
    "# Task #1: Get info Box (store in Python dictionary)\n",
    "\n",
    "### Import necessary libaries"
   ]
  },
  {
   "cell_type": "code",
   "execution_count": 2,
   "metadata": {},
   "outputs": [],
   "source": [
    "from bs4 import BeautifulSoup as bs\n",
    "import requests\n",
    "import pandas as pd"
   ]
  },
  {
   "cell_type": "markdown",
   "metadata": {},
   "source": [
    "### Load the webpage"
   ]
  },
  {
   "cell_type": "code",
   "execution_count": null,
   "metadata": {},
   "outputs": [],
   "source": [
    "req = requests.get(url='https://en.wikipedia.org/wiki/WALL-E')\n",
    "# Convert to a beautiful soup object\n",
    "soup = bs(req.content)\n",
    "\n",
    "# Print out the HTML\n",
    "contents = soup.prettify()\n",
    "print(contents)"
   ]
  },
  {
   "cell_type": "code",
   "execution_count": null,
   "metadata": {},
   "outputs": [],
   "source": [
    "info_box = soup.find(class_='infobox vevent')\n",
    "info_rows = info_box.find_all('tr')\n",
    "for row in info_rows:\n",
    "    print(row.prettify())"
   ]
  },
  {
   "cell_type": "code",
   "execution_count": null,
   "metadata": {},
   "outputs": [],
   "source": [
    "def get_content_value(row_data):\n",
    "    if row_data.find('li'):\n",
    "        return [li.get_text('|', strip=True).replace('\\xa0', ' ') for li in row_data.find_all('li')]\n",
    "    else:\n",
    "        return row_data.get_text(' ', strip=True).replace('\\xa0', ' ')\n",
    "\n",
    "movie_info: dict = {}\n",
    "\n",
    "for index, row in enumerate(info_rows):\n",
    "    if index == 0:\n",
    "        movie_info['title'] = row.find('th').get_text('|', strip=True)\n",
    "    elif index == 1:\n",
    "        continue\n",
    "    else:\n",
    "        header = row.find('th')\n",
    "        if header:\n",
    "            content_key = row.find('th').get_text('|', strip=True)\n",
    "            content_value = get_content_value(row.find('td'))\n",
    "            movie_info[content_key] = content_value\n",
    "\n",
    "movie_info"
   ]
  },
  {
   "cell_type": "markdown",
   "metadata": {},
   "source": [
    "# Task #2: Get info box for all movies"
   ]
  },
  {
   "cell_type": "code",
   "execution_count": 67,
   "metadata": {},
   "outputs": [],
   "source": [
    "r = requests.get(url='https://en.wikipedia.org/wiki/List_of_Walt_Disney_Pictures_films')\n",
    "\n",
    "# Convert to a beautiful soup object\n",
    "soup = bs(r.content)\n",
    "\n",
    "contents = soup.prettify()"
   ]
  },
  {
   "cell_type": "code",
   "execution_count": null,
   "metadata": {},
   "outputs": [],
   "source": [
    "movies = soup.select('.wikitable.sortable i a')\n",
    "movies"
   ]
  },
  {
   "cell_type": "code",
   "execution_count": 78,
   "metadata": {},
   "outputs": [],
   "source": [
    "'''\n",
    "    \" \", strip=True:\n",
    "    \" \" - каким образом разделить объединенные строки\n",
    "    strip=True - удалить пробелы в начале и конце строк\n",
    "    Напримре: Productioncompany --> Production company\n",
    "'''\n",
    "def get_content_value(row_data):\n",
    "    if row_data.find('li'):\n",
    "        return [li.get_text(' ', strip=True).replace('\\xa0', ' ') for li in row_data.find_all('li')]\n",
    "    \n",
    "    # Данный elif находит тег <br>, из-за которого не получалось на выходе получить лист\n",
    "    # Например, без данного elif мы получали: 'Starring': 'Fess Parker Jeffrey Hunter John Lupton Jeff York Slim Pickens',\n",
    "    # После добавления данного elif получили: 'Starring': ['Fess Parker', 'Jeffrey Hunter', 'John Lupton', 'Jeff York', 'Slim Pickens']\n",
    "    elif row_data.find('br'):\n",
    "        return [text for text in row_data.stripped_strings]\n",
    "    else:\n",
    "        return row_data.get_text(' ', strip=True).replace('\\xa0', ' ')\n",
    "\n",
    "\n",
    "# Функция очищает тэги <sup> - который отображает текст в виде верхнего индекса\n",
    "# и <span> - который отображает дату в формате \"yyyy.mm.dd\"\n",
    "def clean_tags(soup):\n",
    "    for tag in soup.find_all(['sup', 'span']):\n",
    "        tag.decompose()\n",
    "\n",
    "\n",
    "def get_info_box(relative_path, url: str) -> dict:\n",
    "    req = requests.get(url=url)\n",
    "    # Convert to a beautiful soup object\n",
    "    soup = bs(req.content, 'html.parser')  # Указываем парсер 'html.parser'\n",
    "\n",
    "    info_box = soup.find(class_='infobox vevent')\n",
    "    if not info_box:\n",
    "        return {} # Возвращаем пустой словарь, если инфобокс не найден\n",
    "    \n",
    "    info_rows = info_box.find_all('tr')\n",
    "    \n",
    "    clean_tags(soup=soup)\n",
    "\n",
    "    movie_info = {}\n",
    "\n",
    "    for index, row in enumerate(info_rows):\n",
    "        if index == 0: # Извлекаем название фильма\n",
    "            movie_info['URL'] = relative_path\n",
    "            movie_info['title'] = row.find('th').get_text(' ', strip=True)\n",
    "            # movie_info['link'] = [a['href'] for a in row.find_all('a', href=True)]\n",
    "            \n",
    "        elif index == 1:  # Пропускаем вторую строку, если нужно\n",
    "            continue\n",
    "        else:\n",
    "            header = row.find('th')\n",
    "            # print(header)\n",
    "            if header:\n",
    "                content_key = row.find('th').get_text(' ', strip=True)\n",
    "                content_value = get_content_value(row.find('td'))\n",
    "                movie_info[content_key] = content_value\n",
    "\n",
    "    return movie_info"
   ]
  },
  {
   "cell_type": "code",
   "execution_count": null,
   "metadata": {},
   "outputs": [],
   "source": [
    "import time\n",
    "\n",
    "start_time = time.time()\n",
    "\n",
    "req = requests.get(url='https://en.wikipedia.org/wiki/List_of_Walt_Disney_Pictures_films')\n",
    "\n",
    "# Преобразуем ответ в объект BeautifulSoup\n",
    "soup = bs(req.content, 'html.parser')\n",
    "\n",
    "base_path = 'https://en.wikipedia.org/'\n",
    "\n",
    "# Находим основной блок с контентом\n",
    "mw_body_content = soup.select('.mw-content-ltr.mw-parser-output')\n",
    "\n",
    "movie_info_list = []\n",
    "\n",
    "# Проходим по всем элементам в основном блоке\n",
    "for elements in mw_body_content:\n",
    "    # Находим все заголовки h2\n",
    "    headings = elements.select('h2')\n",
    "\n",
    "    for head in headings:\n",
    "        # Если встречаем заголовок \"Upcoming\", прекращаем выполнение\n",
    "        if 'Upcoming' in head.get_text():\n",
    "            print(\"Encountered 'Upcoming', stopping movie processing.\")\n",
    "            break\n",
    "\n",
    "        # Ищем таблицы с фильмами перед заголовком \"Upcoming\"\n",
    "        movies = elements.select('.wikitable.sortable i a')\n",
    "\n",
    "        # Обрабатываем фильмы, если они есть\n",
    "        for index, movie in enumerate(movies):\n",
    "            if index % 10 == 0:\n",
    "                print(f\"Processing movie {index}: {movie.get_text()}\")\n",
    "            try:\n",
    "                relative_path = movie['href']\n",
    "                full_path = base_path + relative_path\n",
    "                title = movie.get_text()\n",
    "\n",
    "                # В список добавляем словарь, который возвращает функция get_info_box\n",
    "                movie_info_list.append(get_info_box(relative_path, full_path))\n",
    "                \n",
    "            except Exception as e:\n",
    "                print(f\"Error processing movie {movie.get_text()}: {e}\")\n",
    "    \n",
    "    # Прерываем внешний цикл после заголовка \"Upcoming\"\n",
    "    if 'Upcoming' in head.get_text():\n",
    "        break\n",
    "\n",
    "# Измеряем время выполнения\n",
    "end_time = time.time()\n",
    "print(f\"Execution time: {end_time - start_time} seconds\")\n",
    "\n",
    "# Результат (список фильмов)\n",
    "print(f\"Processed {len(movie_info_list)} movies.\")"
   ]
  },
  {
   "cell_type": "code",
   "execution_count": null,
   "metadata": {},
   "outputs": [],
   "source": [
    "get_info_box(url='https://en.wikipedia.org/wiki/Snow_White_and_the_Seven_Dwarfs_(1937_film)')"
   ]
  },
  {
   "cell_type": "markdown",
   "metadata": {},
   "source": [
    "### Save/Reload Movie data"
   ]
  },
  {
   "cell_type": "code",
   "execution_count": 74,
   "metadata": {},
   "outputs": [],
   "source": [
    "# Сохранить данные в JSON формат\n",
    "import json\n",
    "def save_data(title, data):\n",
    "    with open(file=title, mode='w', encoding='utf-8') as f:\n",
    "        json.dump(data, f, ensure_ascii=False, indent=2)\n",
    "    "
   ]
  },
  {
   "cell_type": "code",
   "execution_count": 135,
   "metadata": {},
   "outputs": [],
   "source": [
    "save_data('disney_data.json', movie_info_list)"
   ]
  },
  {
   "cell_type": "code",
   "execution_count": 3,
   "metadata": {},
   "outputs": [],
   "source": [
    "# Загрузить данные из JSON формата\n",
    "import json\n",
    "def load_data(title):\n",
    "    with open(title, mode='r', encoding='utf-8') as f:\n",
    "        return json.load(f)"
   ]
  },
  {
   "cell_type": "code",
   "execution_count": 4,
   "metadata": {},
   "outputs": [],
   "source": [
    "movie_info_list = load_data(title='disney_data.json')\n",
    "# df = pd.DataFrame(movie_info_list)\n",
    "# df"
   ]
  },
  {
   "cell_type": "markdown",
   "metadata": {},
   "source": [
    "# Task #3: Clean data"
   ]
  },
  {
   "cell_type": "markdown",
   "metadata": {},
   "source": [
    "### Subtasks\n",
    "- ~~Clean up references (remove [1] [2] etc)~~ функция clean_tags выше\n",
    "- ~~Convert running time into an integer~~\n",
    "- ~~Convert dates into datetime object~~\n",
    "- ~~Split up the long strings~~\n",
    "- ~~Convert Budget and Box office to numbers~~"
   ]
  },
  {
   "cell_type": "code",
   "execution_count": 5,
   "metadata": {},
   "outputs": [
    {
     "data": {
      "text/plain": [
       "list"
      ]
     },
     "execution_count": 5,
     "metadata": {},
     "output_type": "execute_result"
    }
   ],
   "source": [
    "type(movie_info_list)"
   ]
  },
  {
   "cell_type": "code",
   "execution_count": null,
   "metadata": {},
   "outputs": [],
   "source": [
    "[movie.get('Running time', 'N/A') for movie in movie_info_list]"
   ]
  },
  {
   "cell_type": "code",
   "execution_count": 7,
   "metadata": {},
   "outputs": [],
   "source": [
    "def minutes_to_integer(running_time):\n",
    "    if running_time == 'N/A':\n",
    "        return None\n",
    "    elif '\\n' not in running_time:\n",
    "        if isinstance(running_time, list):\n",
    "            return int(running_time[0].split(' ')[0])\n",
    "        else:\n",
    "            return int(running_time.split(' ')[0])\n",
    "    else:\n",
    "        if isinstance(running_time, list):\n",
    "            return int(running_time[0].split('\\n')[0])\n",
    "        else:\n",
    "            return int(running_time.split('\\n')[0])\n",
    "\n",
    "for movie in movie_info_list:\n",
    "    movie['Running time (int)'] = minutes_to_integer(movie.get('Running time', 'N/A'))"
   ]
  },
  {
   "cell_type": "code",
   "execution_count": null,
   "metadata": {},
   "outputs": [],
   "source": [
    "movie_info_list[1:10]"
   ]
  },
  {
   "cell_type": "code",
   "execution_count": null,
   "metadata": {},
   "outputs": [],
   "source": [
    "print([movie.get('Budget', 'N/A') for movie in movie_info_list])"
   ]
  },
  {
   "cell_type": "code",
   "execution_count": 9,
   "metadata": {},
   "outputs": [],
   "source": [
    "# Convert Budget and Box office to numbers\n",
    "import re\n",
    "amounts = r'thousand|million|billion'\n",
    "number = r\"\\d+(,\\d{3})*\\.*\\d*\"\n",
    "\n",
    "word_re = rf'\\${number}(-|\\sto\\s|–)?({number})?\\s({amounts})'\n",
    "value_re = rf'\\${number}'\n",
    "\n",
    "def word_to_value(word):\n",
    "    value_dict: dict = {'thousand' : 1_000, 'million' : 1_000_000, 'billion' : 1_000_000_000}\n",
    "    return value_dict[word]\n",
    "\n",
    "\n",
    "def parse_word_syntax(string):\n",
    "    value_string = re.search(number, string).group()\n",
    "    value = float(value_string.replace(',', ''))\n",
    "    word = re.search(amounts, string, flags=re.I).group().lower()\n",
    "    word_value = word_to_value(word=word)\n",
    "    return value * word_value\n",
    "\n",
    "\n",
    "def parse_value_syntax(string) -> float:\n",
    "    value_string = re.search(number, string).group()\n",
    "    value = float(value_string.replace(\",\", ''))\n",
    "    return value\n",
    "    # Strip out commas before solution\n",
    "\n",
    "\n",
    "# ОСНОВНАЯ ФУНКЦИЯ\n",
    "def money_conversion(money):\n",
    "\n",
    "    if money == 'N/A':\n",
    "        return None\n",
    "\n",
    "    if isinstance(money, list):\n",
    "        money = money[0]\n",
    "\n",
    "    # print(money)\n",
    "\n",
    "    word_syntax = re.search(word_re, money, flags=re.I)\n",
    "    value_syntax = re.search(value_re, money)\n",
    "    \n",
    "\n",
    "    if word_syntax:\n",
    "       return parse_word_syntax(string=word_syntax.group())\n",
    "\n",
    "    elif value_syntax:\n",
    "        return parse_value_syntax(string=value_syntax.group())\n",
    "\n",
    "    else:\n",
    "        return None\n"
   ]
  },
  {
   "cell_type": "code",
   "execution_count": null,
   "metadata": {},
   "outputs": [],
   "source": [
    "money_conversion(movie_info_list['Budget'])"
   ]
  },
  {
   "cell_type": "code",
   "execution_count": 12,
   "metadata": {},
   "outputs": [],
   "source": [
    "for movie in movie_info_list:\n",
    "    movie['Budget (float)'] = money_conversion(movie.get('Budget', 'N/A'))\n",
    "    movie['Box office (float)'] = money_conversion(movie.get('Box office', 'N/A'))"
   ]
  },
  {
   "cell_type": "code",
   "execution_count": null,
   "metadata": {},
   "outputs": [],
   "source": [
    "movie_info_list"
   ]
  },
  {
   "cell_type": "code",
   "execution_count": 17,
   "metadata": {},
   "outputs": [
    {
     "name": "stdout",
     "output_type": "stream",
     "text": [
      "['N/A', 'N/A', ['November 13, 1940'], ['June 27, 1941'], 'N/A', 'N/A', 'N/A', ['July 17, 1943'], 'N/A', 'N/A', 'N/A', ['September 27, 1947'], ['May 27, 1948'], 'N/A', ['October 5, 1949'], 'N/A', 'N/A', 'N/A', 'N/A', ['February 5, 1953'], ['July 23, 1953 (United States)'], ['November 9, 1953'], 'N/A', ['August 17, 1954'], ['December 23, 1954'], ['May 25, 1955'], ['June 22, 1955'], ['September 14, 1955'], ['December 22, 1955'], ['June 8, 1956'], ['July 18, 1956'], ['September 4, 1956'], ['December 20, 1956'], ['June 19, 1957'], ['August 28, 1957'], ['December 25, 1957'], ['July 8, 1958'], ['August 12, 1958'], ['December 25, 1958'], ['January 29, 1959'], ['March 19, 1959'], 'N/A', ['November 10, 1959'], ['January 21, 1960 ( Sarasota, FL )'], ['February 24, 1960'], ['May 19, 1960'], 'N/A', 'N/A', ['November 1, 1960'], ['December 21, 1960'], ['January 25, 1961'], ['March 16, 1961'], ['June 21, 1961'], ['July 12, 1961'], ['July 17, 1961'], ['December 14, 1961'], ['April 5, 1962'], ['May 17, 1962'], ['June 6, 1962'], ['September 26, 1962'], ['November 7, 1962 (Los Angeles)'], 'N/A', ['January 16, 1963'], ['March 29, 1963 (U.S.)'], ['June 1, 1963'], ['July 7, 1963'], ['November 20, 1963'], 'N/A', ['March 12, 1964'], ['February 11, 1964 (Los Angeles)'], 'N/A', 'N/A', 'N/A', ['November 10, 1964'], ['December 18, 1964'], ['August 18, 1965 (Los Angeles)'], ['December 2, 1965'], 'N/A', 'N/A', ['October 1, 1966'], ['December 1, 1966'], ['February 8, 1967 (San Francisco)'], ['June 15, 1967'], ['July 12, 1967'], ['October 18, 1967'], ['October 18, 1967'], 'N/A', ['February 8, 1968'], ['March 21, 1968 ( Radio City Music Hall )'], ['June 26, 1968'], ['December 20, 1968'], 'N/A', ['March 21, 1969'], ['June 11, 1969'], ['December 31, 1969'], ['February 11, 1970'], ['July 1, 1970'], ['December 15, 1970'], 'N/A', ['March 17, 1971'], ['June 22, 1971'], ['June 30, 1971'], 'N/A', ['March 22, 1972 (US)'], ['July 12, 1972'], ['July 5, 1972'], ['October 18, 1972'], ['December 22, 1972'], ['February 1, 1973'], ['March 23, 1973'], ['June 20, 1973'], ['November 8, 1973'], ['December 14, 1973'], 'N/A', ['July 31, 1974'], ['August 1, 1974'], ['December 20, 1974 (with Winnie the Pooh and Tigger Too )'], ['February 6, 1975'], ['March 21, 1975 (United States)'], ['July 1, 1975'], ['July 9, 1975'], ['October 8, 1975'], ['1948–1960'], ['December 25, 1975'], ['February 11, 1976 (Los Angeles)'], ['July 1, 1976'], ['July 7, 1976'], ['December 16, 1976'], 'N/A', 'N/A', ['March 11, 1977'], ['June 22, 1977'], ['June 24, 1977'], ['November 3, 1977'], ['December 16, 1977'], ['March 10, 1978'], ['June 30, 1978 (New York)'], ['July 5, 1978'], ['February 9, 1979'], ['June 27, 1979'], 'N/A', 'N/A', ['February 8, 1980'], 'N/A', ['June 27, 1980'], ['July 9, 1980 (Los Angeles)'], 'N/A', ['February 11, 1981 (Los Angeles)'], ['March 20, 1981'], ['June 26, 1981'], ['July 10, 1981'], 'N/A', ['February 5, 1982'], ['July 9, 1982'], ['July 30, 1982'], ['March 11, 1983'], ['April 29, 1983 (United States)'], 'N/A', ['June 21, 1985 (United States)'], ['July 24, 1985'], ['September 27, 1985'], ['November 22, 1985'], ['July 2, 1986'], ['August 1, 1986'], 'N/A', ['June 5, 1987'], 'N/A', ['November 18, 1988'], ['June 23, 1989'], ['August 18, 1989'], ['November 17, 1989'], ['August 3, 1990'], ['November 16, 1990'], ['January 18, 1991'], 'N/A', ['May 24, 1991'], ['June 21, 1991'], 'N/A', ['April 10, 1992'], ['July 17, 1992'], ['October 2, 1992'], ['November 11, 1992'], ['December 11, 1992'], ['February 3, 1993'], ['March 12, 1993'], ['April 2, 1993'], ['July 16, 1993'], ['October 1, 1993'], ['November 12, 1993'], ['January 14, 1994'], ['February 11, 1994'], ['March 25, 1994'], ['April 14, 1994'], ['May 20, 1994'], ['June 15, 1994 (United States)'], ['July 15, 1994'], ['October 28, 1994'], 'N/A', ['December 25, 1994'], ['January 31, 1995'], ['February 17, 1995'], ['March 3, 1995'], ['March 24, 1995'], ['April 7, 1995'], 'N/A', ['July 28, 1995'], ['August 11, 1995'], ['September 29, 1995'], 'N/A', 'N/A', ['December 22, 1995'], ['February 16, 1996'], ['March 8, 1996'], 'N/A', 'N/A', ['August 13, 1996'], ['August 30, 1996'], ['October 4, 1996'], 'N/A', ['February 14, 1997'], 'N/A', ['March 18, 1997'], 'N/A', ['June 13, 1997 (United States)'], ['July 16, 1997'], ['August 1, 1997'], ['August 5, 1997'], ['October 10, 1997'], ['November 11, 1997'], 'N/A', ['December 25, 1997'], ['February 17, 1998'], ['March 27, 1998 (United States)'], 'N/A', 'N/A', ['August 25, 1998'], ['September 29, 1998'], ['October 27, 1998'], ['November 13, 1998'], 'N/A', ['December 25, 1998'], ['February 12, 1999'], ['March 26, 1999'], ['September 1998 (Telluride Film Festival)'], 'N/A', ['July 23, 1999'], ['August 17, 1999'], 'N/A', ['November 9, 1999'], 'N/A', 'N/A', ['February 11, 2000'], 'N/A', ['March 10, 2000'], 'N/A', ['July 7, 2000'], ['August 8, 2000'], ['September 19, 2000'], ['September 29, 2000'], ['November 22, 2000 (United States)'], 'N/A', 'N/A', ['February 27, 2001'], 'N/A', 'N/A', ['October 5, 2001'], 'N/A', ['November 6, 2001'], ['January 18, 2002'], 'N/A', ['February 26, 2002'], ['March 19, 2002'], ['March 29, 2002'], 'N/A', ['July 23, 2002'], ['July 26, 2002'], ['September 3, 2002'], ['October 11, 2002'], 'N/A', 'N/A', ['January 21, 2003'], ['February 14, 2003'], ['March 11, 2003'], 'N/A', 'N/A', ['April 18, 2003 (United States)'], ['May 2, 2003 (United States)'], ['May 20, 2003'], 'N/A', 'N/A', 'N/A', ['August 26, 2003'], ['October 21, 2003'], 'N/A', ['November 26, 2003'], ['December 25, 2003'], ['January 16, 2004'], ['February 6, 2004'], 'N/A', ['February 20, 2004'], ['March 9, 2004'], 'N/A', ['April 22, 2004'], ['June 16, 2004'], ['July 2, 2004'], ['August 11, 2004'], ['August 17, 2004'], 'N/A', ['November 9, 2004'], ['November 19, 2004'], ['January 28, 2005'], 'N/A', 'N/A', ['March 4, 2005'], ['March 18, 2005 (United States)'], ['June 14, 2005'], 'N/A', ['July 29, 2005'], 'N/A', ['August 30, 2005'], ['September 13, 2005'], ['September 30, 2005'], 'N/A', 'N/A', ['December 13, 2005'], ['January 13, 2006'], ['January 27, 2006'], 'N/A', ['February 17, 2006 (United States)'], ['March 10, 2006'], ['April 14, 2006'], 'N/A', 'N/A', 'N/A', ['August 25, 2006'], ['August 29, 2006'], 'N/A', ['November 3, 2006'], ['December 12, 2006'], ['February 6, 2007'], ['February 16, 2007'], 'N/A', 'N/A', 'N/A', 'N/A', ['August 3, 2007'], ['August 28, 2007'], 'N/A', 'N/A', 'N/A', ['February 1, 2008'], ['March 7, 2008'], 'N/A', 'N/A', ['26 August 2008'], 'N/A', ['October 17, 2008'], 'N/A', 'N/A', ['October 28, 2008'], 'N/A', ['December 25, 2008'], ['February 27, 2009'], 'N/A', ['April 10, 2009'], 'N/A', 'N/A', 'N/A', ['19 February 2009 ( Germany )'], ['July 24, 2009'], ['September 9, 2009'], ['October 27, 2009 (United States)'], ['October 29, 2009'], 'N/A', ['November 25, 2009'], 'N/A', 'N/A', 'N/A', 'N/A', 'N/A', 'N/A', 'N/A', 'N/A', 'N/A', ['6 October 2010'], 'N/A', ['8 October 2010'], 'N/A', 'N/A', ['14 January 2011 (India)'], ['February 1, 2011'], ['17 February 2011 ( Germany )'], 'N/A', ['22 April 2011'], 'N/A', ['April 29, 2011'], 'N/A', 'N/A', 'N/A', ['September 20, 2011'], 'N/A', ['January 31, 2012'], 'N/A', 'N/A', ['25 May 2012'], 'N/A', ['August 15, 2012'], ['September 18, 2012'], 'N/A', 'N/A', 'N/A', 'N/A', 'N/A', 'N/A', 'N/A', 'N/A', ['August 27, 2013'], 'N/A', 'N/A', 'N/A', 'N/A', ['April 18, 2014 (United States)'], 'N/A', 'N/A', 'N/A', ['19 September 2014'], 'N/A', 'N/A', 'N/A', 'N/A', 'N/A', 'N/A', ['April 17, 2015 (United States)'], 'N/A', 'N/A', ['19 June 2015'], 'N/A', 'N/A', 'N/A', 'N/A', 'N/A', 'N/A', 'N/A', 'N/A', 'N/A', 'N/A', 'N/A', 'N/A', 'N/A', 'N/A', 'N/A', 'N/A', 'N/A', ['June 30, 2017 (United States)'], ['14 July 2017'], ['October 29, 2017 ( Russia )'], 'N/A', 'N/A', 'N/A', 'N/A', 'N/A', 'N/A', 'N/A', 'N/A', ['April 17, 2019 (United States)'], 'N/A', 'N/A', 'N/A', 'N/A', ['November 12, 2019 (United States)'], ['November 12, 2019 ( Disney+ )'], 'N/A', ['December 20, 2019'], 'N/A', 'N/A', ['March 13, 2020'], 'N/A', ['April 3, 2020'], ['June 12, 2020'], ['July 3, 2020'], ['July 31, 2020'], ['August 14, 2020'], ['August 21, 2020 (United States)'], 'N/A', ['December 4, 2020'], ['December 11, 2020 (United States)'], 'N/A', 'N/A', ['February 19, 2021'], ['March 5, 2021'], 'N/A', 'N/A', 'N/A', 'N/A', ['December 3, 2021'], ['23 December 2021'], ['January 28, 2022'], 'N/A', 'N/A', 'N/A', 'N/A', ['April 22, 2022'], 'N/A', 'N/A', 'N/A', ['June 24, 2022'], ['September 8, 2022'], ['September 30, 2022'], 'N/A', 'N/A', ['December 2, 2022'], ['December 9, 2022'], ['March 10, 2023'], ['April 28, 2023'], ['May 12, 2023'], 'N/A', 'N/A', ['June 23, 2023'], 'N/A', 'N/A', ['November 17, 2023'], 'N/A', ['December 8, 2023'], ['April 22, 2024'], 'N/A', 'N/A', 'N/A', 'N/A', ['November 27, 2024'], ['December 20, 2024'], ['March 21, 2025'], ['May 23, 2025'], ['June 13, 2025'], ['August 8, 2025'], ['October 10, 2025'], ['November 26, 2025'], 'N/A', ['July 10, 2026'], 'N/A', 'N/A', 'N/A', 'N/A', ['June 13, 1997 (United States)'], 'N/A', 'N/A', 'N/A', 'N/A', 'N/A', 'N/A', ['June 21, 1991'], 'N/A', 'N/A', 'N/A']\n"
     ]
    }
   ],
   "source": [
    "print([movie.get('Release date', 'N/A') for movie in movie_info_list])"
   ]
  },
  {
   "cell_type": "code",
   "execution_count": null,
   "metadata": {},
   "outputs": [],
   "source": [
    "# Convert dates to datetime object\n",
    "# June 28, 2023\n",
    "\n",
    "from datetime import datetime\n",
    "\n",
    "dates = [movie.get('Release date', 'N/A') for movie in movie_info_list]\n",
    "\n",
    "def clean_date(date):\n",
    "    return date.split('(')[0].strip()\n",
    "\n",
    "def date_conversion(date):\n",
    "    if isinstance(date, list):\n",
    "        date = date[0]\n",
    "    if date == 'N/A':\n",
    "        return None\n",
    "    \n",
    "    date_str = clean_date(date=date)\n",
    "    print(date_str)\n",
    "\n",
    "    fmts = ['%B %d, %Y', '%d %B %Y', ]\n",
    "\n",
    "    for fmt in fmts:\n",
    "        try:\n",
    "            return datetime.strptime(date_str, fmt)\n",
    "        except Exception as e:\n",
    "            print(e)\n",
    "    return None\n",
    "\n",
    "# Для проверки\n",
    "# for date in dates:\n",
    "#     print(date_conversion(date))\n",
    "#     print()\n",
    "\n",
    "for movie in movie_info_list:\n",
    "    movie['Release date (datetime)'] = date_conversion(movie.get('Release date', 'N/A'))"
   ]
  },
  {
   "cell_type": "code",
   "execution_count": null,
   "metadata": {},
   "outputs": [],
   "source": [
    "movie_info_list[50]"
   ]
  },
  {
   "cell_type": "code",
   "execution_count": 63,
   "metadata": {},
   "outputs": [],
   "source": [
    "import pickle\n",
    "\n",
    "def save_data_pickle(name, data):\n",
    "    with open(name, mode='wb') as f:\n",
    "        pickle.dump(data, f)"
   ]
  },
  {
   "cell_type": "code",
   "execution_count": 2,
   "metadata": {},
   "outputs": [],
   "source": [
    "import pickle\n",
    "\n",
    "def load_data_pickle(name):\n",
    "    with open(name, mode='rb') as f:\n",
    "        return pickle.load(f)"
   ]
  },
  {
   "cell_type": "code",
   "execution_count": null,
   "metadata": {},
   "outputs": [],
   "source": [
    "save_data_pickle('disney_movie_data_cleaned_more.pickle', movie_info_list)"
   ]
  },
  {
   "cell_type": "code",
   "execution_count": 6,
   "metadata": {},
   "outputs": [],
   "source": [
    "a = load_data_pickle(name='disney_movie_data_cleaned_more.pickle')"
   ]
  },
  {
   "cell_type": "code",
   "execution_count": null,
   "metadata": {},
   "outputs": [],
   "source": [
    "a == movie_info_list"
   ]
  },
  {
   "cell_type": "markdown",
   "metadata": {},
   "source": [
    "### Task #4: Attach IMDB//Metascore Tomatoes scores"
   ]
  },
  {
   "cell_type": "code",
   "execution_count": 45,
   "metadata": {},
   "outputs": [],
   "source": [
    "movie_info_list = load_data_pickle(name='disney_movie_data_cleaned_more.pickle')"
   ]
  },
  {
   "cell_type": "code",
   "execution_count": null,
   "metadata": {},
   "outputs": [],
   "source": [
    "movie_info_list[-60]"
   ]
  },
  {
   "cell_type": "code",
   "execution_count": null,
   "metadata": {},
   "outputs": [],
   "source": [
    "import requests\n",
    "import urllib\n",
    "import os\n",
    "\n",
    "def get_omdb_info(title):\n",
    "    \n",
    "    # api_key = os.environ['OMDB_API_KEY'] = \"3e0ef61b\"\n",
    "    api_key = os.environ.get('OMDB_API_KEY')\n",
    "\n",
    "    base_url = 'http://www.omdbapi.com/?'\n",
    "    parameters = {'apikey' : api_key, 't' : title}\n",
    "    params_encoded = urllib.parse.urlencode(parameters)\n",
    "    full_url = base_url + params_encoded\n",
    "    return requests.get(full_url).json()\n",
    "\n",
    "def get_rotten_tomato_score(omdb_info):\n",
    "    ratings = omdb_info.get('Ratings', [])\n",
    "    for rating in ratings:\n",
    "        if rating['Source'] == 'Rotten Tomatoes':\n",
    "            return rating['Value']\n",
    "    return None\n",
    "\n",
    "# info = get_omdb_info('into the woods')\n",
    "# info\n",
    "# get_rotten_tomato_score(info)"
   ]
  },
  {
   "cell_type": "code",
   "execution_count": null,
   "metadata": {},
   "outputs": [],
   "source": [
    "movie_info_list"
   ]
  },
  {
   "cell_type": "code",
   "execution_count": null,
   "metadata": {},
   "outputs": [],
   "source": []
  },
  {
   "cell_type": "code",
   "execution_count": 56,
   "metadata": {},
   "outputs": [],
   "source": [
    "for movie in movie_info_list:\n",
    "    title = movie.get('title', None)\n",
    "    # print(title)\n",
    "    omdb_info = get_omdb_info(title=title)\n",
    "    movie['imdb'] = omdb_info.get('imdbRating', None)\n",
    "    movie['metascore'] = omdb_info.get('Metascore', None)\n",
    "    movie['rotten_tomatoes'] = get_rotten_tomato_score(omdb_info=omdb_info)\n"
   ]
  },
  {
   "cell_type": "code",
   "execution_count": 58,
   "metadata": {},
   "outputs": [
    {
     "data": {
      "text/plain": [
       "{'URL': '/wiki/Turning_Red',\n",
       " 'title': 'Turning Red',\n",
       " 'Directed by': 'Domee Shi',\n",
       " 'Screenplay by': ['Julia Cho', 'Domee Shi'],\n",
       " 'Story by': ['Domee Shi', 'Julia Cho', 'Sarah Streicher'],\n",
       " 'Produced by': 'Lindsey Collins',\n",
       " 'Starring': ['Rosalie Chiang',\n",
       "  'Sandra Oh',\n",
       "  'Ava Morse',\n",
       "  'Hyein Park',\n",
       "  'Maitreyi Ramakrishnan',\n",
       "  'Orion Lee',\n",
       "  'Wai Ching Ho',\n",
       "  'Tristan Allerick Chen',\n",
       "  'James Hong'],\n",
       " 'Cinematography': ['Mahyar Abousaeedi', 'Jonathan Pytko'],\n",
       " 'Edited by': ['Nicholas C. Smith', 'Steve Bloom'],\n",
       " 'Music by': ['Ludwig Göransson',\n",
       "  '. (Score)',\n",
       "  'Billie Eilish',\n",
       "  'and',\n",
       "  \"Finneas O'Connell\",\n",
       "  '(songs)'],\n",
       " 'Production company': 'Pixar Animation Studios',\n",
       " 'Distributed by': ['Walt Disney Studios', 'Motion Pictures'],\n",
       " 'Release dates': ['March 1, 2022 ( El Capitan Theatre )',\n",
       "  'March 11, 2022 (United States; Disney+ )',\n",
       "  'February 9, 2024 (United States and United Kingdom; theatrical)'],\n",
       " 'Running time': '100 minutes',\n",
       " 'Country': 'United States',\n",
       " 'Language': 'English',\n",
       " 'Budget': '$175 million',\n",
       " 'Box office': '$21.5 million',\n",
       " 'Running time (int)': 100,\n",
       " 'Budget (float)': 175000000.0,\n",
       " 'Box office (float)': 21500000.0,\n",
       " 'Release date (datetime)': None,\n",
       " 'imdb': '7.0',\n",
       " 'metascore': '83',\n",
       " 'rotten_tomatoes': '95%'}"
      ]
     },
     "execution_count": 58,
     "metadata": {},
     "output_type": "execute_result"
    }
   ],
   "source": [
    "movie_info_list[-55]"
   ]
  },
  {
   "cell_type": "code",
   "execution_count": 64,
   "metadata": {},
   "outputs": [],
   "source": [
    "save_data_pickle(name='disney_movie_data_final.pickle',data=movie_info_list)"
   ]
  },
  {
   "cell_type": "markdown",
   "metadata": {},
   "source": [
    "### Task #5: Save data as JSON & CSV"
   ]
  },
  {
   "cell_type": "code",
   "execution_count": 65,
   "metadata": {},
   "outputs": [
    {
     "data": {
      "text/plain": [
       "{'URL': '/wiki/One_Hundred_and_One_Dalmatians',\n",
       " 'title': 'One Hundred and One Dalmatians',\n",
       " 'Directed by': ['Wolfgang Reitherman', 'Hamilton Luske', 'Clyde Geronimi'],\n",
       " 'Screenplay by': 'Bill Peet (uncredited)',\n",
       " 'Story by': 'Bill Peet',\n",
       " 'Based on': ['The Hundred and One Dalmatians', 'by', 'Dodie Smith'],\n",
       " 'Produced by': 'Walt Disney',\n",
       " 'Starring': ['Rod Taylor',\n",
       "  \"J. Pat O'Malley\",\n",
       "  'Betty Lou Gerson',\n",
       "  'Martha Wentworth',\n",
       "  'Ben Wright',\n",
       "  'Cate Bauer',\n",
       "  'Dave Frankham',\n",
       "  'Fred Worlock',\n",
       "  'Lisa Davis',\n",
       "  'Tom Conway',\n",
       "  'Tudor Owen',\n",
       "  'George Pelling',\n",
       "  'Ramsay Hill',\n",
       "  'Sylvia Marriott',\n",
       "  'Queenie Leonard',\n",
       "  'Marjorie Bennett',\n",
       "  'Micky Maga',\n",
       "  'Barbara Beaird',\n",
       "  'Mimi Gibson',\n",
       "  'Sandra Abbott',\n",
       "  'Thurl Ravenscroft',\n",
       "  'Bill Lee',\n",
       "  'Max Smith',\n",
       "  'Bob Stevens',\n",
       "  'Paul Wexler',\n",
       "  'Mary Wickes',\n",
       "  'Barbara Luddy',\n",
       "  'Lisa Daniels',\n",
       "  'Helene Stanley',\n",
       "  'Don Barclay',\n",
       "  'Dal McKennon',\n",
       "  'Jeanne Bruns'],\n",
       " 'Edited by': ['Roy M. Brewer, Jr.', 'Donald Halliday'],\n",
       " 'Music by': 'George Bruns',\n",
       " 'Production company': 'Walt Disney Productions',\n",
       " 'Distributed by': 'Buena Vista Distribution',\n",
       " 'Release date': ['January 25, 1961'],\n",
       " 'Running time': '79 minutes',\n",
       " 'Country': 'United States',\n",
       " 'Language': 'English',\n",
       " 'Budget': '$3.6–4 million',\n",
       " 'Box office': '$303 million',\n",
       " 'Running time (int)': 79,\n",
       " 'Budget (float)': 3600000.0,\n",
       " 'Box office (float)': 303000000.0,\n",
       " 'Release date (datetime)': datetime.datetime(1961, 1, 25, 0, 0),\n",
       " 'imdb': '7.3',\n",
       " 'metascore': '83',\n",
       " 'rotten_tomatoes': '98%'}"
      ]
     },
     "execution_count": 65,
     "metadata": {},
     "output_type": "execute_result"
    }
   ],
   "source": [
    "movie_info_list[50]"
   ]
  },
  {
   "cell_type": "code",
   "execution_count": 67,
   "metadata": {},
   "outputs": [],
   "source": [
    "# Делаем копию\n",
    "movie_info_copy = [movie.copy() for movie in movie_info_list]"
   ]
  },
  {
   "cell_type": "code",
   "execution_count": 69,
   "metadata": {},
   "outputs": [],
   "source": [
    "# import datetime\n",
    "\n",
    "for movie in movie_info_copy:\n",
    "    current_date = movie['Release date (datetime)']\n",
    "    if current_date:\n",
    "        movie['Release date (datetime)'] = current_date.strftime('%B %d, %Y')\n",
    "    else:\n",
    "        movie['Release date (datetime)'] = None"
   ]
  },
  {
   "cell_type": "code",
   "execution_count": 72,
   "metadata": {},
   "outputs": [
    {
     "data": {
      "text/plain": [
       "{'URL': '/wiki/The_Sword_and_the_Rose',\n",
       " 'title': 'The Sword and the Rose',\n",
       " 'Directed by': 'Ken Annakin',\n",
       " 'Screenplay by': 'Lawrence Edward Watkin',\n",
       " 'Based on': ['When Knighthood Was in Flower',\n",
       "  'by',\n",
       "  'Charles Major',\n",
       "  '(1856-1913)',\n",
       "  '(of',\n",
       "  'Shelbyville, Indiana',\n",
       "  ', in 1896)',\n",
       "  'James B. Fagan',\n",
       "  '(play)'],\n",
       " 'Produced by': ['Perce Pearce', 'Walt Disney'],\n",
       " 'Starring': ['Glynis Johns',\n",
       "  'James Robertson Justice',\n",
       "  'Richard Todd',\n",
       "  'Michael Gough',\n",
       "  'Jane Barrett',\n",
       "  'Peter Copley',\n",
       "  'Ernest Jay',\n",
       "  'Jean Mercure',\n",
       "  'D. A. Clarke-Smith',\n",
       "  'Gérard Oury',\n",
       "  'Fernand Fabre',\n",
       "  'Gaston Richer',\n",
       "  'Rosalie Crutchley',\n",
       "  'Bryan Coleman'],\n",
       " 'Cinematography': 'Geoffrey Unsworth',\n",
       " 'Edited by': 'Gerald Thomas',\n",
       " 'Music by': 'Clifton Parker',\n",
       " 'Production company': 'RKO-Walt Disney British Productions Limited',\n",
       " 'Distributed by': 'RKO Radio Pictures Ltd.',\n",
       " 'Release date': ['July 23, 1953 (United States)'],\n",
       " 'Running time': '92 minutes',\n",
       " 'Countries': ['United Kingdom', 'United States'],\n",
       " 'Language': 'English',\n",
       " 'Budget': '$2 million',\n",
       " 'Box office': '$1 million dollars (USA)',\n",
       " 'Running time (int)': 92,\n",
       " 'Budget (float)': 2000000.0,\n",
       " 'Box office (float)': 1000000.0,\n",
       " 'Release date (datetime)': 'July 23, 1953',\n",
       " 'imdb': '6.3',\n",
       " 'metascore': 'N/A',\n",
       " 'rotten_tomatoes': None}"
      ]
     },
     "execution_count": 72,
     "metadata": {},
     "output_type": "execute_result"
    }
   ],
   "source": [
    "movie_info_copy[20]"
   ]
  },
  {
   "cell_type": "code",
   "execution_count": 75,
   "metadata": {},
   "outputs": [],
   "source": [
    "save_data(title='disney_data_final.json', data=movie_info_copy)"
   ]
  },
  {
   "cell_type": "code",
   "execution_count": null,
   "metadata": {},
   "outputs": [],
   "source": []
  },
  {
   "cell_type": "code",
   "execution_count": null,
   "metadata": {},
   "outputs": [],
   "source": []
  },
  {
   "cell_type": "code",
   "execution_count": null,
   "metadata": {},
   "outputs": [],
   "source": [
    "# df['Release date'] = pd.to_datetime(df['Release date'][0])\n",
    "# df.head()"
   ]
  },
  {
   "cell_type": "code",
   "execution_count": null,
   "metadata": {},
   "outputs": [],
   "source": [
    "# искать символ переноса строки ('\\n') по всем столбцам с помощью .applymap():\n",
    "# rows_with_newline = df[df.map(lambda x: '\\n' in str(x)).any(axis=1)]\n",
    "# rows_with_newline"
   ]
  },
  {
   "cell_type": "code",
   "execution_count": null,
   "metadata": {},
   "outputs": [],
   "source": []
  }
 ],
 "metadata": {
  "kernelspec": {
   "display_name": "myenv",
   "language": "python",
   "name": "python3"
  },
  "language_info": {
   "codemirror_mode": {
    "name": "ipython",
    "version": 3
   },
   "file_extension": ".py",
   "mimetype": "text/x-python",
   "name": "python",
   "nbconvert_exporter": "python",
   "pygments_lexer": "ipython3",
   "version": "3.12.3"
  }
 },
 "nbformat": 4,
 "nbformat_minor": 2
}
