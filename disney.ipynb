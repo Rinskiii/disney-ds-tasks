{
 "cells": [
  {
   "cell_type": "markdown",
   "metadata": {},
   "source": [
    "# Task #1: Get info Box (store in Python dictionary)\n",
    "\n",
    "### Import necessary libaries"
   ]
  },
  {
   "cell_type": "code",
   "execution_count": 85,
   "metadata": {},
   "outputs": [],
   "source": [
    "from bs4 import BeautifulSoup as bs\n",
    "import requests\n",
    "import pandas as pd"
   ]
  },
  {
   "cell_type": "markdown",
   "metadata": {},
   "source": [
    "### Load the webpage"
   ]
  },
  {
   "cell_type": "code",
   "execution_count": null,
   "metadata": {},
   "outputs": [],
   "source": [
    "req = requests.get(url='https://en.wikipedia.org/wiki/WALL-E')\n",
    "# Convert to a beautiful soup object\n",
    "soup = bs(req.content)\n",
    "\n",
    "# Print out the HTML\n",
    "contents = soup.prettify()\n",
    "print(contents)"
   ]
  },
  {
   "cell_type": "code",
   "execution_count": null,
   "metadata": {},
   "outputs": [],
   "source": [
    "info_box = soup.find(class_='infobox vevent')\n",
    "info_rows = info_box.find_all('tr')\n",
    "for row in info_rows:\n",
    "    print(row.prettify())"
   ]
  },
  {
   "cell_type": "code",
   "execution_count": null,
   "metadata": {},
   "outputs": [],
   "source": [
    "def get_content_value(row_data):\n",
    "    if row_data.find('li'):\n",
    "        return [li.get_text('|', strip=True).replace('\\xa0', ' ') for li in row_data.find_all('li')]\n",
    "    else:\n",
    "        return row_data.get_text(' ', strip=True).replace('\\xa0', ' ')\n",
    "\n",
    "movie_info: dict = {}\n",
    "\n",
    "for index, row in enumerate(info_rows):\n",
    "    if index == 0:\n",
    "        movie_info['title'] = row.find('th').get_text('|', strip=True)\n",
    "    elif index == 1:\n",
    "        continue\n",
    "    else:\n",
    "        header = row.find('th')\n",
    "        if header:\n",
    "            content_key = row.find('th').get_text('|', strip=True)\n",
    "            content_value = get_content_value(row.find('td'))\n",
    "            movie_info[content_key] = content_value\n",
    "\n",
    "movie_info"
   ]
  },
  {
   "cell_type": "markdown",
   "metadata": {},
   "source": [
    "# Task #2: Get info box for all movies"
   ]
  },
  {
   "cell_type": "code",
   "execution_count": 67,
   "metadata": {},
   "outputs": [],
   "source": [
    "r = requests.get(url='https://en.wikipedia.org/wiki/List_of_Walt_Disney_Pictures_films')\n",
    "\n",
    "# Convert to a beautiful soup object\n",
    "soup = bs(r.content)\n",
    "\n",
    "contents = soup.prettify()"
   ]
  },
  {
   "cell_type": "code",
   "execution_count": null,
   "metadata": {},
   "outputs": [],
   "source": [
    "movies = soup.select('.wikitable.sortable i a')\n",
    "movies"
   ]
  },
  {
   "cell_type": "code",
   "execution_count": 78,
   "metadata": {},
   "outputs": [],
   "source": [
    "'''\n",
    "    \" \", strip=True:\n",
    "    \" \" - каким образом разделить объединенные строки\n",
    "    strip=True - удалить пробелы в начале и конце строк\n",
    "    Напримре: Productioncompany --> Production company\n",
    "'''\n",
    "def get_content_value(row_data):\n",
    "    if row_data.find('li'):\n",
    "        return [li.get_text(' ', strip=True).replace('\\xa0', ' ') for li in row_data.find_all('li')]\n",
    "    \n",
    "    # Данный elif находит тег <br>, из-за которого не получалось на выходе получить лист\n",
    "    # Например, без данного elif мы получали: 'Starring': 'Fess Parker Jeffrey Hunter John Lupton Jeff York Slim Pickens',\n",
    "    # После добавления данного elif получили: 'Starring': ['Fess Parker', 'Jeffrey Hunter', 'John Lupton', 'Jeff York', 'Slim Pickens']\n",
    "    elif row_data.find('br'):\n",
    "        return [text for text in row_data.stripped_strings]\n",
    "    else:\n",
    "        return row_data.get_text(' ', strip=True).replace('\\xa0', ' ')\n",
    "\n",
    "\n",
    "# Функция очищает тэги <sup> - который отображает текст в виде верхнего индекса\n",
    "# и <span> - который отображает дату в формате \"yyyy.mm.dd\"\n",
    "def clean_tags(soup):\n",
    "    for tag in soup.find_all(['sup', 'span']):\n",
    "        tag.decompose()\n",
    "\n",
    "\n",
    "def get_info_box(relative_path, url: str) -> dict:\n",
    "    req = requests.get(url=url)\n",
    "    # Convert to a beautiful soup object\n",
    "    soup = bs(req.content, 'html.parser')  # Указываем парсер 'html.parser'\n",
    "\n",
    "    info_box = soup.find(class_='infobox vevent')\n",
    "    if not info_box:\n",
    "        return {} # Возвращаем пустой словарь, если инфобокс не найден\n",
    "    \n",
    "    info_rows = info_box.find_all('tr')\n",
    "    \n",
    "    clean_tags(soup=soup)\n",
    "\n",
    "    movie_info = {}\n",
    "\n",
    "    for index, row in enumerate(info_rows):\n",
    "        if index == 0: # Извлекаем название фильма\n",
    "            movie_info['URL'] = relative_path\n",
    "            movie_info['title'] = row.find('th').get_text(' ', strip=True)\n",
    "            # movie_info['link'] = [a['href'] for a in row.find_all('a', href=True)]\n",
    "            \n",
    "        elif index == 1:  # Пропускаем вторую строку, если нужно\n",
    "            continue\n",
    "        else:\n",
    "            header = row.find('th')\n",
    "            # print(header)\n",
    "            if header:\n",
    "                content_key = row.find('th').get_text(' ', strip=True)\n",
    "                content_value = get_content_value(row.find('td'))\n",
    "                movie_info[content_key] = content_value\n",
    "\n",
    "    return movie_info"
   ]
  },
  {
   "cell_type": "code",
   "execution_count": 131,
   "metadata": {},
   "outputs": [
    {
     "name": "stdout",
     "output_type": "stream",
     "text": [
      "Processing movie 0: Snow White and the Seven Dwarfs\n",
      "Processing movie 10: Song of the South\n",
      "Processing movie 20: The Sword and the Rose\n",
      "Processing movie 30: Davy Crockett and the River Pirates\n",
      "Processing movie 40: The Shaggy Dog\n",
      "Processing movie 50: One Hundred and One Dalmatians\n",
      "Processing movie 60: The Legend of Lobo\n",
      "Processing movie 70: The Three Lives of Thomasina\n",
      "Processing movie 80: Follow Me, Boys!\n",
      "Processing movie 90: The Horse in the Gray Flannel Suit\n",
      "Processing movie 100: Scandalous John\n",
      "Processing movie 110: One Little Indian\n",
      "Processing movie 120: One of Our Dinosaurs Is Missing\n",
      "Processing movie 130: The Many Adventures of Winnie the Pooh\n",
      "Processing movie 140: Unidentified Flying Oddball\n",
      "Processing movie 150: The Fox and the Hound\n",
      "Processing movie 160: The Journey of Natty Gann\n",
      "Processing movie 170: The Little Mermaid\n",
      "Processing movie 180: The Mighty Ducks\n",
      "Processing movie 190: Blank Check\n",
      "Processing movie 200: Heavyweights\n",
      "Processing movie 210: Tom and Huck\n",
      "Processing movie 220: Jungle 2 Jungle\n",
      "Processing movie 230: Mr. Magoo\n",
      "Processing movie 240: Mighty Joe Young\n",
      "Processing movie 250: Fantasia 2000\n",
      "Processing movie 260: The Emperor's New Groove\n",
      "Processing movie 270: Cinderella II: Dreams Come True\n",
      "Error processing movie Spirited Away: 'NoneType' object has no attribute 'find'\n",
      "Processing movie 280: Treasure Planet\n",
      "Processing movie 290: Pirates of the Caribbean: The Curse of the Black Pearl\n",
      "Processing movie 300: Confessions of a Teenage Drama Queen\n",
      "Processing movie 310: National Treasure\n",
      "Error processing movie Howl's Moving Castle: 'NoneType' object has no attribute 'find'\n",
      "Processing movie 320: Valiant\n",
      "Processing movie 330: Eight Below\n",
      "Processing movie 340: The Fox and the Hound 2\n",
      "Processing movie 350: Enchanted\n",
      "Processing movie 360: Roadside Romeo\n",
      "Processing movie 370: Lilly the Witch: The Dragon and the Magic Book\n",
      "Error processing movie Ponyo: 'NoneType' object has no attribute 'find'\n",
      "Processing movie 380: Waking Sleeping Beauty\n",
      "Error processing movie Tales from Earthsea: 'NoneType' object has no attribute 'find'\n",
      "Processing movie 390: Do Dooni Chaar\n",
      "Processing movie 400: Pirates of the Caribbean: On Stranger Tides\n",
      "Error processing movie The Secret World of Arrietty: 'NoneType' object has no attribute 'find'\n",
      "Processing movie 410: Brave\n",
      "Processing movie 420: Planes\n",
      "Processing movie 430: Khoobsurat\n",
      "Processing movie 440: ABCD 2\n",
      "Processing movie 450: Queen of Katwe\n",
      "Processing movie 460: The Last Warrior\n",
      "Processing movie 470: Aladdin\n",
      "Processing movie 480: Stargirl\n",
      "Processing movie 490: Safety\n",
      "Processing movie 500: The Last Warrior: A Messenger of Darkness\n",
      "Processing movie 510: Rise\n",
      "Processing movie 520: The Little Mermaid\n",
      "Processing movie 530: Young Woman and the Sea\n",
      "Processing movie 540: Zootopia 2\n",
      "Error processing movie Toy Story 5: 'NoneType' object has no attribute 'find'\n",
      "Error processing movie Incredibles 3: 'NoneType' object has no attribute 'find'\n",
      "Processing movie 550: Hunchback\n",
      "Error processing movie Shrunk: 'NoneType' object has no attribute 'find'\n",
      "Processing movie 560: Figment\n",
      "Encountered 'Upcoming', stopping movie processing.\n",
      "Execution time: 486.6939945220947 seconds\n",
      "Processed 553 movies.\n"
     ]
    }
   ],
   "source": [
    "import time\n",
    "import requests\n",
    "from bs4 import BeautifulSoup as bs\n",
    "\n",
    "start_time = time.time()\n",
    "\n",
    "req = requests.get(url='https://en.wikipedia.org/wiki/List_of_Walt_Disney_Pictures_films')\n",
    "\n",
    "# Преобразуем ответ в объект BeautifulSoup\n",
    "soup = bs(req.content, 'html.parser')\n",
    "\n",
    "base_path = 'https://en.wikipedia.org/'\n",
    "\n",
    "# Находим основной блок с контентом\n",
    "mw_body_content = soup.select('.mw-content-ltr.mw-parser-output')\n",
    "\n",
    "movie_info_list = []\n",
    "\n",
    "# Проходим по всем элементам в основном блоке\n",
    "for elements in mw_body_content:\n",
    "    # Находим все заголовки h2\n",
    "    headings = elements.select('h2')\n",
    "\n",
    "    for head in headings:\n",
    "        # Если встречаем заголовок \"Upcoming\", прекращаем выполнение\n",
    "        if 'Upcoming' in head.get_text():\n",
    "            print(\"Encountered 'Upcoming', stopping movie processing.\")\n",
    "            break\n",
    "\n",
    "        # Ищем таблицы с фильмами перед заголовком \"Upcoming\"\n",
    "        movies = elements.select('.wikitable.sortable i a')\n",
    "\n",
    "        # Обрабатываем фильмы, если они есть\n",
    "        for index, movie in enumerate(movies):\n",
    "            if index % 10 == 0:\n",
    "                print(f\"Processing movie {index}: {movie.get_text()}\")\n",
    "            try:\n",
    "                relative_path = movie['href']\n",
    "                full_path = base_path + relative_path\n",
    "                title = movie.get_text()\n",
    "\n",
    "                # В список добавляем словарь, который возвращает функция get_info_box\n",
    "                movie_info_list.append(get_info_box(relative_path, full_path))\n",
    "                \n",
    "            except Exception as e:\n",
    "                print(f\"Error processing movie {movie.get_text()}: {e}\")\n",
    "    \n",
    "    # Прерываем внешний цикл после заголовка \"Upcoming\"\n",
    "    if 'Upcoming' in head.get_text():\n",
    "        break\n",
    "\n",
    "# Измеряем время выполнения\n",
    "end_time = time.time()\n",
    "print(f\"Execution time: {end_time - start_time} seconds\")\n",
    "\n",
    "# Результат (список фильмов)\n",
    "print(f\"Processed {len(movie_info_list)} movies.\")"
   ]
  },
  {
   "cell_type": "code",
   "execution_count": null,
   "metadata": {},
   "outputs": [],
   "source": [
    "get_info_box(url='https://en.wikipedia.org/wiki/Snow_White_and_the_Seven_Dwarfs_(1937_film)')"
   ]
  },
  {
   "cell_type": "markdown",
   "metadata": {},
   "source": [
    "### Save/Reload Movie data"
   ]
  },
  {
   "cell_type": "code",
   "execution_count": 134,
   "metadata": {},
   "outputs": [],
   "source": [
    "# Сохранить данные в JSON формат\n",
    "import json\n",
    "def save_data(title, data):\n",
    "    with open(file=title, mode='w', encoding='utf-8') as f:\n",
    "        json.dump(data, f, ensure_ascii=False, indent=2)\n",
    "        "
   ]
  },
  {
   "cell_type": "code",
   "execution_count": 135,
   "metadata": {},
   "outputs": [],
   "source": [
    "save_data('disney_data.json', movie_info_list)"
   ]
  },
  {
   "cell_type": "code",
   "execution_count": 113,
   "metadata": {},
   "outputs": [],
   "source": [
    "# Загрузить данные из JSON формата\n",
    "import json\n",
    "def load_data(title):\n",
    "    with open(title, mode='r', encoding='utf-8') as f:\n",
    "        return json.load(f)"
   ]
  },
  {
   "cell_type": "code",
   "execution_count": 114,
   "metadata": {},
   "outputs": [],
   "source": [
    "movie_info_list = load_data(title='disney_data.json')\n",
    "# df = pd.DataFrame(movie_info_list)\n",
    "# df"
   ]
  },
  {
   "cell_type": "markdown",
   "metadata": {},
   "source": [
    "# Task #3: Clean data"
   ]
  },
  {
   "cell_type": "markdown",
   "metadata": {},
   "source": [
    "### Subtasks\n",
    "- ~~Clean up references (remove [1] [2] etc)~~ функция clean_tags выше\n",
    "- ~~Convert running time into an integer~~\n",
    "- Convert dates into datetime object\n",
    "- ~~Split up the long strings~~\n",
    "- ~~Convert Budget and Box office to numbers~~"
   ]
  },
  {
   "cell_type": "code",
   "execution_count": 124,
   "metadata": {},
   "outputs": [
    {
     "data": {
      "text/plain": [
       "list"
      ]
     },
     "execution_count": 124,
     "metadata": {},
     "output_type": "execute_result"
    }
   ],
   "source": [
    "type(movie_info_list)"
   ]
  },
  {
   "cell_type": "code",
   "execution_count": null,
   "metadata": {},
   "outputs": [],
   "source": [
    "[movie.get('Running time', 'N/A') for movie in movie_info_list]"
   ]
  },
  {
   "cell_type": "code",
   "execution_count": 143,
   "metadata": {},
   "outputs": [],
   "source": [
    "def minutes_to_integer(running_time):\n",
    "    if running_time == 'N/A':\n",
    "        return None\n",
    "    elif '\\n' not in running_time:\n",
    "        if isinstance(running_time, list):\n",
    "            return int(running_time[0].split(' ')[0])\n",
    "        else:\n",
    "            return int(running_time.split(' ')[0])\n",
    "    else:\n",
    "        if isinstance(running_time, list):\n",
    "            return int(running_time[0].split('\\n')[0])\n",
    "        else:\n",
    "            return int(running_time.split('\\n')[0])\n",
    "\n",
    "for movie in movie_info_list:\n",
    "    movie['Running time (int)'] = minutes_to_integer(movie.get('Running time', 'N/A'))"
   ]
  },
  {
   "cell_type": "code",
   "execution_count": null,
   "metadata": {},
   "outputs": [],
   "source": [
    "movie_info_list[1:10]"
   ]
  },
  {
   "cell_type": "code",
   "execution_count": null,
   "metadata": {},
   "outputs": [],
   "source": [
    "print([movie.get('Budget', 'N/A') for movie in movie_info_list])"
   ]
  },
  {
   "cell_type": "code",
   "execution_count": 68,
   "metadata": {},
   "outputs": [],
   "source": [
    "# Convert Budget and Box office to numbers\n",
    "import re\n",
    "amounts = r'thousand|million|billion'\n",
    "number = r\"\\d+(,\\d{3})*\\.*\\d*\"\n",
    "\n",
    "word_re = rf'\\${number}(-|\\sto\\s|–)?({number})?\\s({amounts})'\n",
    "value_re = rf'\\${number}'\n",
    "\n",
    "def word_to_value(word):\n",
    "    value_dict: dict = {'thousand' : 1_000, 'million' : 1_000_000, 'billion' : 1_000_000_000}\n",
    "    return value_dict[word]\n",
    "\n",
    "\n",
    "def parse_word_syntax(string):\n",
    "    value_string = re.search(number, string).group()\n",
    "    value = float(value_string.replace(',', ''))\n",
    "    word = re.search(amounts, string, flags=re.I).group().lower()\n",
    "    word_value = word_to_value(word=word)\n",
    "    return value * word_value\n",
    "\n",
    "\n",
    "def parse_value_syntax(string) -> float:\n",
    "    value_string = re.search(number, string).group()\n",
    "    value = float(value_string.replace(\",\", ''))\n",
    "    return value\n",
    "    # Strip out commas before solution\n",
    "\n",
    "\n",
    "# ОСНОВНАЯ ФУНКЦИЯ\n",
    "def money_conversion(money):\n",
    "\n",
    "    if money == 'N/A':\n",
    "        return None\n",
    "\n",
    "    if isinstance(money, list):\n",
    "        money = money[0]\n",
    "\n",
    "    # print(money)\n",
    "\n",
    "    word_syntax = re.search(word_re, money, flags=re.I)\n",
    "    value_syntax = re.search(value_re, money)\n",
    "    \n",
    "\n",
    "    if word_syntax:\n",
    "       return parse_word_syntax(string=word_syntax.group())\n",
    "\n",
    "    elif value_syntax:\n",
    "        return parse_value_syntax(string=value_syntax.group())\n",
    "\n",
    "    else:\n",
    "        return None\n"
   ]
  },
  {
   "cell_type": "code",
   "execution_count": 58,
   "metadata": {},
   "outputs": [
    {
     "name": "stdout",
     "output_type": "stream",
     "text": [
      "$6 million\n"
     ]
    },
    {
     "data": {
      "text/plain": [
       "6000000.0"
      ]
     },
     "execution_count": 58,
     "metadata": {},
     "output_type": "execute_result"
    }
   ],
   "source": [
    "money_conversion(movie_info_list[40]['Budget'])"
   ]
  },
  {
   "cell_type": "code",
   "execution_count": 69,
   "metadata": {},
   "outputs": [],
   "source": [
    "for movie in movie_info_list:\n",
    "    movie['Budget (float)'] = money_conversion(movie.get('Budget', 'N/A'))\n",
    "    # movie['Box office (float)'] = money_conversion(movie.get('Box office', 'N/A'))"
   ]
  },
  {
   "cell_type": "code",
   "execution_count": null,
   "metadata": {},
   "outputs": [],
   "source": []
  },
  {
   "cell_type": "code",
   "execution_count": null,
   "metadata": {},
   "outputs": [],
   "source": []
  },
  {
   "cell_type": "code",
   "execution_count": null,
   "metadata": {},
   "outputs": [],
   "source": []
  },
  {
   "cell_type": "code",
   "execution_count": null,
   "metadata": {},
   "outputs": [],
   "source": [
    "# Измерение времени выполнения\n",
    "import time\n",
    "\n",
    "start_time = time.time()\n",
    "\n",
    "req = requests.get(url='https://en.wikipedia.org/wiki/List_of_Walt_Disney_Pictures_films')\n",
    "\n",
    "# Преобразуем ответ в объект BeautifulSoup\n",
    "soup = bs(req.content, 'html.parser')\n",
    "\n",
    "mw_body_content = soup.select('.mw-content-ltr.mw-parser-output')\n",
    "\n",
    "\n",
    "for elements in mw_body_content:\n",
    "    # heading = elements.select('.mw-heading.mw-heading2 > h2')\n",
    "    movies = elements.select('.wikitable.sortable i a')\n",
    "    for movie in movies:\n",
    "        print(movie.get_text())\n",
    "        "
   ]
  },
  {
   "cell_type": "code",
   "execution_count": null,
   "metadata": {},
   "outputs": [],
   "source": []
  },
  {
   "cell_type": "code",
   "execution_count": null,
   "metadata": {},
   "outputs": [],
   "source": [
    "df = pd.DataFrame(movie_info_list)\n",
    "df"
   ]
  },
  {
   "cell_type": "code",
   "execution_count": null,
   "metadata": {},
   "outputs": [],
   "source": [
    "df['Release date'] = pd.to_datetime(df['Release date'][0])\n",
    "df.head()"
   ]
  },
  {
   "cell_type": "code",
   "execution_count": null,
   "metadata": {},
   "outputs": [],
   "source": [
    "# искать символ переноса строки ('\\n') по всем столбцам с помощью .applymap():\n",
    "rows_with_newline = df[df.map(lambda x: '\\n' in str(x)).any(axis=1)]\n",
    "rows_with_newline"
   ]
  },
  {
   "cell_type": "code",
   "execution_count": null,
   "metadata": {},
   "outputs": [],
   "source": []
  }
 ],
 "metadata": {
  "kernelspec": {
   "display_name": "myenv",
   "language": "python",
   "name": "python3"
  },
  "language_info": {
   "codemirror_mode": {
    "name": "ipython",
    "version": 3
   },
   "file_extension": ".py",
   "mimetype": "text/x-python",
   "name": "python",
   "nbconvert_exporter": "python",
   "pygments_lexer": "ipython3",
   "version": "3.12.3"
  }
 },
 "nbformat": 4,
 "nbformat_minor": 2
}
